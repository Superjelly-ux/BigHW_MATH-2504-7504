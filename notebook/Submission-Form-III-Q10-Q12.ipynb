{
 "cells": [
  {
   "cell_type": "markdown",
   "metadata": {},
   "source": [
    "### MATH2504 S2, 2024, BigHW Submission \n",
    "### Submission form III of IV "
   ]
  },
  {
   "cell_type": "markdown",
   "metadata": {},
   "source": [
    "Student #1 name:\n",
    "\n",
    "Student #1 ID:\n",
    "\n",
    "Student #2 name:\n",
    "\n",
    "Student #2 ID:\n",
    "\n",
    "GitHub repo: "
   ]
  },
  {
   "cell_type": "markdown",
   "metadata": {},
   "source": [
    "---\n",
    "\n",
    "**Note: It is expected that this notebook be runnable in the sense that the marker can select \"Restart & Run All\" and all code cells of solutions will execute. This requires not to have name clashes between solutions.**\n",
    "\n",
    "---"
   ]
  },
  {
   "cell_type": "markdown",
   "metadata": {},
   "source": [
    "# Solution to [Question 10](https://courses.smp.uq.edu.au/MATH2504/2024/assessment_html/bighw.html#q10)"
   ]
  },
  {
   "cell_type": "code",
   "execution_count": null,
   "metadata": {},
   "outputs": [],
   "source": [
    "### Make this a markdown cell and state if you had any problems with git and GitHub (in place of this comment)"
   ]
  },
  {
   "cell_type": "markdown",
   "metadata": {},
   "source": [
    "# Solution to [Question 11](https://courses.smp.uq.edu.au/MATH2504/2024/assessment_html/bighw.html#q11)"
   ]
  },
  {
   "cell_type": "markdown",
   "metadata": {},
   "source": [
    "## 11a:"
   ]
  },
  {
   "cell_type": "markdown",
   "metadata": {},
   "source": [
    "`input`32466@LAPTOP-ON0C7N4A MINGW64 ~  \n",
    "mkdir hw_q11  \n",
    "cd hw_q11  \n",
    "pwd  \n",
    "\n",
    "`output`  \n",
    "/c/Users/32466/hw_q11"
   ]
  },
  {
   "cell_type": "markdown",
   "metadata": {},
   "source": [
    "## 11b:"
   ]
  },
  {
   "cell_type": "markdown",
   "metadata": {},
   "source": [
    "`input`  \n",
    "echo \"Yingjie GU\"  \n",
    "`output`  \n",
    "Yingjie GU"
   ]
  },
  {
   "cell_type": "markdown",
   "metadata": {},
   "source": [
    "## 11c:"
   ]
  },
  {
   "cell_type": "markdown",
   "metadata": {},
   "source": [
    "`input`  \n",
    "echo \"Yingjie Gu\" > my_name.txt"
   ]
  },
  {
   "cell_type": "markdown",
   "metadata": {},
   "source": [
    "## 11d:"
   ]
  },
  {
   "cell_type": "markdown",
   "metadata": {},
   "source": [
    "`input`  \n",
    "cat my_name.txt  \n",
    "\n",
    "`output`  \n",
    "Yingjie Gu"
   ]
  },
  {
   "cell_type": "markdown",
   "metadata": {},
   "source": [
    "## 11e:"
   ]
  },
  {
   "cell_type": "markdown",
   "metadata": {},
   "source": [
    "`input`  \n",
    "ls -l my_name.txt\n",
    "\n",
    "`output`  \n",
    "-rw-r--r-- 1 32466 197609 11 Aug 12 21:58 my_name.txt"
   ]
  },
  {
   "cell_type": "markdown",
   "metadata": {},
   "source": [
    "## 11f:"
   ]
  },
  {
   "cell_type": "markdown",
   "metadata": {},
   "source": [
    "cp my_name.txt my_name2.txt"
   ]
  },
  {
   "cell_type": "markdown",
   "metadata": {},
   "source": [
    "## 11g:"
   ]
  },
  {
   "cell_type": "markdown",
   "metadata": {},
   "source": [
    "mkdir people"
   ]
  },
  {
   "cell_type": "markdown",
   "metadata": {},
   "source": [
    "## 11h:"
   ]
  },
  {
   "cell_type": "markdown",
   "metadata": {},
   "source": [
    "mv my_name2.txt people/Yingjie_Gu.txt"
   ]
  },
  {
   "cell_type": "markdown",
   "metadata": {},
   "source": [
    "## 11i:"
   ]
  },
  {
   "cell_type": "markdown",
   "metadata": {},
   "source": [
    "echo \"Marie Au\" > people/marie_au.txt  \n",
    "echo \"Jerry Gu\" > people/jerry_gu.txt   \n",
    "echo \"Alan lu\" > people/alan_lu.txt\n"
   ]
  },
  {
   "cell_type": "markdown",
   "metadata": {},
   "source": [
    "## 11j:"
   ]
  },
  {
   "cell_type": "markdown",
   "metadata": {},
   "source": [
    "cd people\n",
    "mv alan_lu.txt .."
   ]
  },
  {
   "cell_type": "markdown",
   "metadata": {},
   "source": [
    "## 11k:"
   ]
  },
  {
   "cell_type": "markdown",
   "metadata": {},
   "source": [
    "mv marie_au.txt /c/Users/32466/hw_q11"
   ]
  },
  {
   "cell_type": "markdown",
   "metadata": {},
   "source": [
    "## 11l:"
   ]
  },
  {
   "cell_type": "markdown",
   "metadata": {},
   "source": [
    "cp Yingjie_Gu.txt .Yingjie_Gu.txt"
   ]
  },
  {
   "cell_type": "markdown",
   "metadata": {},
   "source": [
    "## 11m:"
   ]
  },
  {
   "cell_type": "markdown",
   "metadata": {},
   "source": [
    "`input`  \n",
    "ls -la\n",
    "\n",
    "`output`  \n",
    "drwxr-xr-x 1 32466 197609  0 Aug 12 22:14 ./  \n",
    "drwxr-xr-x 1 32466 197609  0 Aug 12 22:11 ../  \n",
    "-rw-r--r-- 1 32466 197609 11 Aug 12 22:14 .Yingjie_Gu.txt  \n",
    "-rw-r--r-- 1 32466 197609 11 Aug 12 22:02 Yingjie_Gu.txt  \n",
    "-rw-r--r-- 1 32466 197609  9 Aug 12 22:09 jerry_gu.txt  \n"
   ]
  },
  {
   "cell_type": "markdown",
   "metadata": {},
   "source": [
    "## 11n:"
   ]
  },
  {
   "cell_type": "markdown",
   "metadata": {},
   "source": [
    "rm *\n"
   ]
  },
  {
   "cell_type": "markdown",
   "metadata": {},
   "source": [
    "## 11o:"
   ]
  },
  {
   "cell_type": "markdown",
   "metadata": {},
   "source": [
    "cd ..  \n",
    "rmdir people"
   ]
  },
  {
   "cell_type": "markdown",
   "metadata": {},
   "source": [
    "# Solution to [Question 12](https://courses.smp.uq.edu.au/MATH2504/2024/assessment_html/bighw.html#q12)"
   ]
  },
  {
   "cell_type": "code",
   "execution_count": 2,
   "metadata": {},
   "outputs": [
    {
     "name": "stderr",
     "output_type": "stream",
     "text": [
      "\u001b[32m\u001b[1m   Resolving\u001b[22m\u001b[39m package versions...\n",
      "\u001b[32m\u001b[1m  No Changes\u001b[22m\u001b[39m to `C:\\Users\\32466\\.julia\\environments\\v1.11\\Project.toml`\n",
      "\u001b[32m\u001b[1m  No Changes\u001b[22m\u001b[39m to `C:\\Users\\32466\\.julia\\environments\\v1.11\\Manifest.toml`\n",
      "\u001b[32m\u001b[1m   Resolving\u001b[22m\u001b[39m package versions...\n",
      "\u001b[32m\u001b[1m  No Changes\u001b[22m\u001b[39m to `C:\\Users\\32466\\.julia\\environments\\v1.11\\Project.toml`\n",
      "\u001b[32m\u001b[1m  No Changes\u001b[22m\u001b[39m to `C:\\Users\\32466\\.julia\\environments\\v1.11\\Manifest.toml`\n"
     ]
    },
    {
     "data": {
      "text/plain": [
       "2-element Vector{Nothing}:\n",
       " nothing\n",
       " nothing"
      ]
     },
     "execution_count": 2,
     "metadata": {},
     "output_type": "execute_result"
    }
   ],
   "source": [
    "using Pkg\n",
    "Pkg.add.([\"HTTP\",\"JSON3\"])"
   ]
  },
  {
   "cell_type": "code",
   "execution_count": 6,
   "metadata": {},
   "outputs": [
    {
     "name": "stderr",
     "output_type": "stream",
     "text": [
      "\u001b[32m\u001b[1m   Resolving\u001b[22m\u001b[39m package versions...\n",
      "\u001b[32m\u001b[1m  No Changes\u001b[22m\u001b[39m to `C:\\Users\\32466\\.julia\\environments\\v1.11\\Project.toml`\n",
      "\u001b[32m\u001b[1m  No Changes\u001b[22m\u001b[39m to `C:\\Users\\32466\\.julia\\environments\\v1.11\\Manifest.toml`\n",
      "\u001b[32m\u001b[1m   Resolving\u001b[22m\u001b[39m package versions...\n",
      "\u001b[32m\u001b[1m   Installed\u001b[22m\u001b[39m WeakRefStrings ── v1.4.2\n",
      "\u001b[32m\u001b[1m   Installed\u001b[22m\u001b[39m WorkerUtilities ─ v1.6.1\n",
      "\u001b[32m\u001b[1m   Installed\u001b[22m\u001b[39m FilePathsBase ─── v0.9.24\n",
      "\u001b[32m\u001b[1m   Installed\u001b[22m\u001b[39m CSV ───────────── v0.10.15\n",
      "\u001b[32m\u001b[1m    Updating\u001b[22m\u001b[39m `C:\\Users\\32466\\.julia\\environments\\v1.11\\Project.toml`\n",
      "  \u001b[90m[336ed68f] \u001b[39m\u001b[92m+ CSV v0.10.15\u001b[39m\n",
      "\u001b[32m\u001b[1m    Updating\u001b[22m\u001b[39m `C:\\Users\\32466\\.julia\\environments\\v1.11\\Manifest.toml`\n",
      "  \u001b[90m[336ed68f] \u001b[39m\u001b[92m+ CSV v0.10.15\u001b[39m\n",
      "  \u001b[90m[48062228] \u001b[39m\u001b[92m+ FilePathsBase v0.9.24\u001b[39m\n",
      "  \u001b[90m[ea10d353] \u001b[39m\u001b[92m+ WeakRefStrings v1.4.2\u001b[39m\n",
      "  \u001b[90m[76eceee3] \u001b[39m\u001b[92m+ WorkerUtilities v1.6.1\u001b[39m\n",
      "\u001b[92m\u001b[1mPrecompiling\u001b[22m\u001b[39m project...\n",
      "   1011.9 ms\u001b[32m  ✓ \u001b[39m\u001b[90mWorkerUtilities\u001b[39m\n",
      "   1243.3 ms\u001b[32m  ✓ \u001b[39m\u001b[90mFilePathsBase\u001b[39m\n",
      "   1209.3 ms\u001b[32m  ✓ \u001b[39m\u001b[90mWeakRefStrings\u001b[39m\n",
      "    748.6 ms\u001b[32m  ✓ \u001b[39m\u001b[90mFilePathsBase → FilePathsBaseMmapExt\u001b[39m\n",
      "   1657.6 ms\u001b[32m  ✓ \u001b[39m\u001b[90mFilePathsBase → FilePathsBaseTestExt\u001b[39m\n",
      "  12963.1 ms\u001b[32m  ✓ \u001b[39mCSV\n",
      "  6 dependencies successfully precompiled in 17 seconds. 212 already precompiled.\n"
     ]
    }
   ],
   "source": [
    "import Pkg; Pkg.add(\"DataFrames\")\n",
    "import Pkg; Pkg.add(\"CSV\")"
   ]
  },
  {
   "cell_type": "code",
   "execution_count": 9,
   "metadata": {},
   "outputs": [
    {
     "name": "stdout",
     "output_type": "stream",
     "text": [
      "Total cells: 64\n",
      "Code cells: 33 (with output: 12, without output: 21)\n",
      "Markdown cells: 31\n",
      "Avg chars per cell: 154.95\n",
      "\n",
      "first(code_summary, 5) =\n",
      "\u001b[1m5×7 DataFrame\u001b[0m\n",
      "\u001b[1m Row \u001b[0m│\u001b[1m cell_number \u001b[0m\u001b[1m character_count \u001b[0m\u001b[1m line_count \u001b[0m\u001b[1m return \u001b[0m\u001b[1m for   \u001b[0m\u001b[1m if    \u001b[0m\u001b[1m using \u001b[0m\n",
      "     │\u001b[90m Int64       \u001b[0m\u001b[90m Int64           \u001b[0m\u001b[90m Int64      \u001b[0m\u001b[90m Int64  \u001b[0m\u001b[90m Int64 \u001b[0m\u001b[90m Int64 \u001b[0m\u001b[90m Int64 \u001b[0m\n",
      "─────┼───────────────────────────────────────────────────────────────────────\n",
      "   1 │           8               74           1       0      0      0      0\n",
      "   2 │          10               50           2       0      0      0      0\n",
      "   3 │          12               37           1       0      1      0      0\n",
      "   4 │          14               68           4       0      0      0      0\n",
      "   5 │          16              186           6       0      1      0      0\n",
      "\n",
      "first(markdown_summary, 5) =\n",
      "\u001b[1m5×7 DataFrame\u001b[0m\n",
      "\u001b[1m Row \u001b[0m│\u001b[1m cell_number \u001b[0m\u001b[1m character_count \u001b[0m\u001b[1m line_count \u001b[0m\u001b[1m #     \u001b[0m\u001b[1m ##    \u001b[0m\u001b[1m ###   \u001b[0m\u001b[1m ####  \u001b[0m\n",
      "     │\u001b[90m Int64       \u001b[0m\u001b[90m Int64           \u001b[0m\u001b[90m Int64      \u001b[0m\u001b[90m Int64 \u001b[0m\u001b[90m Int64 \u001b[0m\u001b[90m Int64 \u001b[0m\u001b[90m Int64 \u001b[0m\n",
      "─────┼──────────────────────────────────────────────────────────────────────\n",
      "   1 │           1              617           9      2      1      0      0\n",
      "   2 │           2               12           1      0      0      1      0\n",
      "   3 │           3              352           6      0      0      0      0\n",
      "   4 │           4               15           1      0      0      1      0\n",
      "   5 │           5              223           7      0      0      0      0\n"
     ]
    }
   ],
   "source": [
    "using HTTP, JSON3\n",
    "using DataFrames, CSV\n",
    "\n",
    "# read ipynb（Raw URL）\n",
    "url = \"https://raw.githubusercontent.com/yoninazarathy/ProgrammingCourse-with-Julia-SimulationAnalysisAndLearningSystems/refs/heads/main/practicals_jupyter/practical_B_more_on_basic_tools_and_julia_essentials.ipynb\"\n",
    "nb   = JSON3.read(String(HTTP.get(url).body))\n",
    "cells = nb[\"cells\"]\n",
    "\n",
    "# Cell source code line count\n",
    "get_source_str(cell) = begin\n",
    "    src = cell[\"source\"]\n",
    "    src isa String ? String(src) : join(String.(src))\n",
    "end\n",
    "count_lines(s) = isempty(s) ? 0 : count(==('\\n'), s) + 1\n",
    "\n",
    "# Markdown [number]\n",
    "function md_heading_counts(s)\n",
    "    h1=h2=h3=h4=0\n",
    "    for line in split(s, '\\n')\n",
    "        startswith(line, \"# \")   && (h1+=1)\n",
    "        startswith(line, \"## \")  && (h2+=1)\n",
    "        startswith(line, \"### \") && (h3+=1)\n",
    "        startswith(line, \"#### \")&& (h4+=1)\n",
    "    end\n",
    "    return (h1,h2,h3,h4)\n",
    "end\n",
    "\n",
    "# count the number\n",
    "function code_keyword_counts(s)\n",
    "    toks = split(s)\n",
    "    cret  = count(==(\"return\"), toks)\n",
    "    cfor  = count(==(\"for\"), toks)\n",
    "    cif   = count(==(\"if\"), toks)\n",
    "    cusing= count(==(\"using\"), toks)\n",
    "    return (cret,cfor,cif,cusing)\n",
    "end\n",
    "\n",
    "# 3) set 2 DataFrame\n",
    "md_df = DataFrame(cell_number=Int[], character_count=Int[], line_count=Int[],\n",
    "                  h1=Int[], h2=Int[], h3=Int[], h4=Int[])\n",
    "code_df = DataFrame(cell_number=Int[], character_count=Int[], line_count=Int[],\n",
    "                    kw_return=Int[], kw_for=Int[], kw_if=Int[], kw_using=Int[])\n",
    "\n",
    "# 4) traverse cells\n",
    "total_chars = 0\n",
    "num_code = 0; num_md = 0\n",
    "code_with_out = 0; code_without_out = 0\n",
    "\n",
    "for (idx, cell) in enumerate(cells)\n",
    "    s  = get_source_str(cell)\n",
    "    cc = ncodeunits(s)\n",
    "    lc = count_lines(s)\n",
    "    total_chars += cc\n",
    "\n",
    "    t = String(cell[\"cell_type\"])\n",
    "    if t == \"markdown\"\n",
    "        num_md += 1\n",
    "        h1,h2,h3,h4 = md_heading_counts(s)\n",
    "        push!(md_df, (idx, cc, lc, h1,h2,h3,h4))\n",
    "    elseif t == \"code\"\n",
    "        num_code += 1\n",
    "        outs = haskey(cell, \"outputs\") ? cell[\"outputs\"] : Any[]\n",
    "        (outs isa AbstractVector && !isempty(outs)) ? (code_with_out+=1) : (code_without_out+=1)\n",
    "        cret,cfor,cif,cusing = code_keyword_counts(s)\n",
    "        push!(code_df, (idx, cc, lc, cret,cfor,cif,cusing))\n",
    "    end\n",
    "end\n",
    "\n",
    "# 5) change the name\n",
    "rename!(md_df, Dict(:h1=>\"#\", :h2=>\"##\", :h3=>\"###\", :h4=>\"####\"))\n",
    "rename!(code_df, Dict(:kw_return=>\"return\", :kw_for=>\"for\", :kw_if=>\"if\", :kw_using=>\"using\"))\n",
    "\n",
    "# 6) print the symbol\n",
    "avg_chars = (length(cells)==0) ? 0.0 : total_chars/length(cells)\n",
    "println(\"Total cells: \", length(cells))\n",
    "println(\"Code cells: \", num_code, \" (with output: \", code_with_out, \", without output: \", code_without_out, \")\")\n",
    "println(\"Markdown cells: \", num_md)\n",
    "println(\"Avg chars per cell: \", round(avg_chars, digits=2))\n",
    "\n",
    "# refresh CSV\n",
    "CSV.write(\"markdown_summary.csv\", md_df)\n",
    "CSV.write(\"code_summary.csv\", code_df)\n",
    "\n",
    "# first 10\n",
    "println(\"\\nfirst(code_summary, 10) =\")\n",
    "println(first(code_df, 10))\n",
    "\n",
    "println(\"\\nfirst(markdown_summary, 10) =\")\n",
    "println(first(md_df, 10))\n"
   ]
  },
  {
   "cell_type": "markdown",
   "metadata": {},
   "source": [
    "---\n",
    "\n",
    "*Use this area below as an experimental playground for the question. Feel free to leave some of the experimental code here with your submision. However, it will not be marked or reviewed. Make sure in your submission that if there is any experimental code here then running it does not interfere with running the actual solutions.*\n",
    "\n",
    "---"
   ]
  },
  {
   "cell_type": "code",
   "execution_count": null,
   "metadata": {},
   "outputs": [],
   "source": []
  },
  {
   "cell_type": "code",
   "execution_count": null,
   "metadata": {},
   "outputs": [],
   "source": []
  },
  {
   "cell_type": "code",
   "execution_count": null,
   "metadata": {},
   "outputs": [],
   "source": []
  },
  {
   "cell_type": "code",
   "execution_count": null,
   "metadata": {},
   "outputs": [],
   "source": []
  }
 ],
 "metadata": {
  "kernelspec": {
   "display_name": "Julia 1.11.6",
   "language": "julia",
   "name": "julia-1.11"
  },
  "language_info": {
   "file_extension": ".jl",
   "mimetype": "application/julia",
   "name": "julia",
   "version": "1.11.6"
  }
 },
 "nbformat": 4,
 "nbformat_minor": 4
}
