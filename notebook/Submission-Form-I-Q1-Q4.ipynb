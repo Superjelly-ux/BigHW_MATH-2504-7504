{
 "cells": [
  {
   "cell_type": "markdown",
   "metadata": {},
   "source": [
    "### MATH2504 S2 & MATH7504, 2024, BigHW Submission \n",
    "### Submission form I of IV "
   ]
  },
  {
   "cell_type": "markdown",
   "metadata": {},
   "source": [
    "Student #1 name: Yingjie Gu\n",
    "\n",
    "Student #1 ID: 47982558\n",
    "\n",
    "Student #2 name: Zhihan Niu\n",
    "\n",
    "Student #2 ID: 48154857\n",
    "\n",
    "GitHub repo: "
   ]
  },
  {
   "cell_type": "markdown",
   "metadata": {},
   "source": [
    "---\n",
    "\n",
    "**Note: It is expected that this notebook be runnable in the sense that the marker can select \"Restart & Run All\" and all code cells of solutions will execute. This requires not to have name clashes between solutions.**\n",
    "\n",
    "---"
   ]
  },
  {
   "cell_type": "code",
   "execution_count": 1,
   "metadata": {},
   "outputs": [
    {
     "name": "stderr",
     "output_type": "stream",
     "text": [
      "\u001b[32m\u001b[1m    Updating\u001b[22m\u001b[39m registry at `C:\\Users\\32466\\.julia\\registries\\General.toml`\n",
      "\u001b[32m\u001b[1m   Resolving\u001b[22m\u001b[39m package versions...\n",
      "\u001b[32m\u001b[1m  No Changes\u001b[22m\u001b[39m to `C:\\Users\\32466\\.julia\\environments\\v1.11\\Project.toml`\n",
      "\u001b[32m\u001b[1m  No Changes\u001b[22m\u001b[39m to `C:\\Users\\32466\\.julia\\environments\\v1.11\\Manifest.toml`\n"
     ]
    }
   ],
   "source": [
    "import Pkg; Pkg.add(\"SpecialFunctions\")"
   ]
  },
  {
   "cell_type": "markdown",
   "metadata": {},
   "source": [
    "# Solution to [Question 1](https://courses.smp.uq.edu.au/MATH2504/2024/assessment_html/bighw.html#q1)"
   ]
  },
  {
   "cell_type": "markdown",
   "metadata": {},
   "source": [
    "## 1a:"
   ]
  },
  {
   "cell_type": "markdown",
   "metadata": {},
   "source": [
    "\n",
    "$A_n$ =\n",
    "\\begin{pmatrix}\n",
    "1 & \\frac{1}{2} & \\frac{1}{3} & \\cdots & \\frac{1}{n} \\\\\n",
    "0 & 1 & \\frac{1}{2} & \\cdots & \\frac{1}{n-1} \\\\\n",
    "\\vdots & \\ddots & \\ddots & \\ddots & \\vdots \\\\\n",
    "\\vdots & & \\ddots & 1 & \\frac{1}{2} \\\\\n",
    "0 & \\cdots & \\cdots & 0 & 1\n",
    "\\end{pmatrix}\n"
   ]
  },
  {
   "cell_type": "markdown",
   "metadata": {},
   "source": [
    "## 1b:"
   ]
  },
  {
   "cell_type": "markdown",
   "metadata": {},
   "source": [
    "`1`C: A general-purpose programming language originally developed to build utilities running on Unix. It is widely used in systems programming and is used to implement other languages such as Python and PHP.\n",
    "\n",
    "`2`C++: A low-level language based on C, commonly used to develop desktop applications, games, and high-performance web applications.\n",
    "\n",
    "`3`Java: A high-level object-oriented programming language commonly used for Android app development and cross-platform desktop software.\n",
    "\n",
    "`4`JavaScript: Primarily used for front-end and back-end web development, and also for mobile development via React Native.\n",
    "\n",
    "`5`Python: An easy-to-learn yet powerful language widely used in data analysis, visualization, and machine learning."
   ]
  },
  {
   "cell_type": "markdown",
   "metadata": {},
   "source": [
    "## 1c:"
   ]
  },
  {
   "cell_type": "markdown",
   "metadata": {},
   "source": [
    "<a href=\"https://encrypted-tbn0.gstatic.com\">\n",
    "  <img src=\"https://encrypted-tbn0.gstatic.com/images?q=tbn:ANd9GcQs3tJusx9oiBdPVz7UpmsZ8vE3YkWyZDCiyA&s\" \n",
    "       alt=\"Example Image\" \n",
    "       width=\"300\">\n",
    "</a>\n"
   ]
  },
  {
   "cell_type": "markdown",
   "metadata": {},
   "source": [
    "# Solution to [Question 2](https://courses.smp.uq.edu.au/MATH2504/2024/assessment_html/bighw.html#q2)"
   ]
  },
  {
   "cell_type": "markdown",
   "metadata": {},
   "source": [
    "## 2a:"
   ]
  },
  {
   "cell_type": "markdown",
   "metadata": {},
   "source": [
    "#### 2a.1:"
   ]
  },
  {
   "cell_type": "markdown",
   "metadata": {},
   "source": [
    "Yes   \n",
    "The code would work without the Number type specification. if a type is not defined, Julia will change the type as whatever the code need."
   ]
  },
  {
   "cell_type": "markdown",
   "metadata": {},
   "source": [
    "#### 2a.2:"
   ]
  },
  {
   "cell_type": "markdown",
   "metadata": {},
   "source": [
    "No  \n",
    "`4ac` would not work, because the expression `4ac` can be interpreted as `4` multiplied by `ac`. But `ac` is a new variable, which has not been defined. `a` and `c` is independent variable, need to seperate by the operator `*`"
   ]
  },
  {
   "cell_type": "markdown",
   "metadata": {},
   "source": [
    "#### 2a.3:"
   ]
  },
  {
   "cell_type": "markdown",
   "metadata": {},
   "source": [
    "`Syntax error. ERROR: syntax: unexpected \"=\"`. Julia can not check the bool value"
   ]
  },
  {
   "cell_type": "markdown",
   "metadata": {},
   "source": [
    "#### 2a.4:"
   ]
  },
  {
   "cell_type": "markdown",
   "metadata": {},
   "source": [
    "Yes  \n",
    "write the expression as -b+[$\\sqrt{\\Delta}$,-$\\sqrt{\\Delta}$] / (2a) works\n",
    "\n",
    "No  \n",
    "use + instead of .+ can not work. -b is an integer and [$\\sqrt{\\Delta}$,-$\\sqrt{\\Delta}$] is a vector, if with no dot, Julia do not know whether need to operate"
   ]
  },
  {
   "cell_type": "markdown",
   "metadata": {},
   "source": [
    "#### 2a.5:"
   ]
  },
  {
   "cell_type": "markdown",
   "metadata": {},
   "source": [
    "Yes  \n",
    "The function works without the return line. Because Julia defaults to return the last line"
   ]
  },
  {
   "cell_type": "markdown",
   "metadata": {},
   "source": [
    "#### 2a.6:"
   ]
  },
  {
   "cell_type": "markdown",
   "metadata": {},
   "source": [
    "If it is `0`, root results in a division of zero by zero and Julia returns `NaN`  \n",
    "if it is `0.0`, Julia is need to calculate a real number divided by zero.  As it is a floating point number, `-Inf` is returned."
   ]
  },
  {
   "cell_type": "markdown",
   "metadata": {},
   "source": [
    "#### 2a.7:"
   ]
  },
  {
   "cell_type": "code",
   "execution_count": 2,
   "metadata": {},
   "outputs": [
    {
     "data": {
      "text/plain": [
       "\"Error - this is not a quadratic equation\""
      ]
     },
     "execution_count": 2,
     "metadata": {},
     "output_type": "execute_result"
    }
   ],
   "source": [
    "function real_roots_of_quadratic(a::Number, b::Number, c::Number)\n",
    "\n",
    "    # Check\n",
    "    if a == 0\n",
    "        return \"Error - this is not a quadratic equation\"\n",
    "    end\n",
    "    #Start by initializing an empty array\n",
    "    roots::Array{Float64} = []\n",
    "\n",
    "    #Compute the discriminant \n",
    "    Δ = b^2 - 4a*c #\\Delta + [TAB]\n",
    "\n",
    "    #Based on the sign of the discriminant return 0, 1, or 2 roots.\n",
    "    if Δ < 0 \n",
    "        roots = []\n",
    "    elseif Δ == 0\n",
    "        roots = [-b/(2a)]\n",
    "    else\n",
    "        roots = [-b + √Δ, -b - √Δ] / (2a) #\\sqrt + [TAB]\n",
    "    end\n",
    "    return roots \n",
    "end\n",
    "\n",
    "# test\n",
    "real_roots_of_quadratic(0,4,6)"
   ]
  },
  {
   "cell_type": "markdown",
   "metadata": {},
   "source": [
    "#### 2a.8:"
   ]
  },
  {
   "cell_type": "code",
   "execution_count": 3,
   "metadata": {},
   "outputs": [
    {
     "data": {
      "text/plain": [
       "\"Error - this is not a quadratic equation\""
      ]
     },
     "execution_count": 3,
     "metadata": {},
     "output_type": "execute_result"
    }
   ],
   "source": [
    "function real_roots_of_quadratic(a::Number, b::Number, c::Number)\n",
    "\n",
    "    # Check\n",
    "    a == 0 && return \"Error - this is not a quadratic equation\"\n",
    "\n",
    "    #Start by initializing an empty array\n",
    "    roots::Array{Float64} = []\n",
    "\n",
    "    #Compute the discriminant \n",
    "    Δ = b^2 - 4a*c #\\Delta + [TAB]\n",
    "\n",
    "    #Based on the sign of the discriminant return 0, 1, or 2 roots.\n",
    "    if Δ < 0 \n",
    "        roots = []\n",
    "    elseif Δ == 0\n",
    "        roots = [-b/(2a)]\n",
    "    else\n",
    "        roots = [-b + √Δ, -b - √Δ] / (2a) #\\sqrt + [TAB]\n",
    "    end\n",
    "    return roots \n",
    "end\n",
    "\n",
    "# test\n",
    "real_roots_of_quadratic(0,4,6)"
   ]
  },
  {
   "cell_type": "markdown",
   "metadata": {},
   "source": [
    "`&&` shows the same definition with `a==0`, If `a==0` works `&&` works"
   ]
  },
  {
   "cell_type": "markdown",
   "metadata": {},
   "source": [
    "#### 2a.9:"
   ]
  },
  {
   "cell_type": "code",
   "execution_count": 4,
   "metadata": {},
   "outputs": [
    {
     "data": {
      "text/plain": [
       "real_roots_of_quadratic (generic function with 1 method)"
      ]
     },
     "execution_count": 4,
     "metadata": {},
     "output_type": "execute_result"
    }
   ],
   "source": [
    "function real_roots_of_quadratic(a::Number, b::Number, c::Number)\n",
    "\n",
    "    # Chcek\n",
    "    a == 0 && throw(DomainError(a, \"argument must be nonzero\"))\n",
    "    # Start by initializing an empty array\n",
    "    roots::Array{Float64} = []\n",
    "\n",
    "    # Compute the discriminant \n",
    "    Δ = b^2 - 4a*c #\\Delta + [TAB]\n",
    "\n",
    "    # Based on the sign of the discriminant return 0, 1, or 2 roots.\n",
    "    if Δ < 0 \n",
    "        roots = []\n",
    "    elseif Δ == 0\n",
    "        roots = [-b/(2a)]\n",
    "    else\n",
    "        roots = [-b + √Δ, -b - √Δ] / (2a) #\\sqrt + [TAB]\n",
    "    end\n",
    "    return roots \n",
    "end\n",
    "\n",
    "# test is error"
   ]
  },
  {
   "cell_type": "markdown",
   "metadata": {},
   "source": [
    "It gives the `DomainError` , casue it is not in the domain of a. It will automatically call the error."
   ]
  },
  {
   "cell_type": "markdown",
   "metadata": {},
   "source": [
    " ## 2b:"
   ]
  },
  {
   "cell_type": "markdown",
   "metadata": {},
   "source": [
    "#### 2b.1:"
   ]
  },
  {
   "cell_type": "code",
   "execution_count": 5,
   "metadata": {},
   "outputs": [
    {
     "data": {
      "text/plain": [
       "real_roots_of_quadratic (generic function with 1 method)"
      ]
     },
     "execution_count": 5,
     "metadata": {},
     "output_type": "execute_result"
    }
   ],
   "source": [
    "function real_roots_of_quadratic(a::Number, b::Number, c::Number)\n",
    "    Δ = b^2 - 4a*c\n",
    "    if Δ < 0 \n",
    "        return []\n",
    "    elseif Δ == 0\n",
    "        return [-b / (2a)]\n",
    "    else\n",
    "        return [(-b + sqrt(Δ)) / (2a), (-b - sqrt(Δ)) / (2a)]\n",
    "    end\n",
    "end\n"
   ]
  },
  {
   "cell_type": "code",
   "execution_count": 6,
   "metadata": {},
   "outputs": [
    {
     "name": "stdout",
     "output_type": "stream",
     "text": [
      "The equation 1x² + -5x + 6 = 0 has the real roots 3.0 and 2.0\n",
      "The equation 1x² + 2x + 3 = 0 has no real roots.\n",
      "The equation 1x² + 7x + 0 = 0 has the real roots 0.0 and -7.0\n",
      "The equation 2x² + 4x + -3 = 0 has the real roots 0.5811388300841898 and -2.58113883008419\n",
      "The equation 2x² + 4x + 2 = 0 has the single (real) root -1.0\n"
     ]
    }
   ],
   "source": [
    "examples = [[1,-5,6], [1,2,3],[1,7,0],[2,4,-3],[2,4,2]]\n",
    "\n",
    "for example in examples\n",
    "    roots = real_roots_of_quadratic(example[1], example[2], example[3])\n",
    "    print(\"The equation $(example[1])x² + $(example[2])x + $(example[3]) = 0 \") #\\^2 + [TAB] #***\n",
    "    if length(roots) == 0 #***\n",
    "        println(\"has no real roots.\") #***\n",
    "    elseif length(roots) == 1 #***\n",
    "        println(\"has the single (real) root $(roots[1])\") #***\n",
    "    else #***\n",
    "        println(\"has the real roots $(roots[1]) and $(roots[2])\") #***\n",
    "    end #***\n",
    "end"
   ]
  },
  {
   "cell_type": "markdown",
   "metadata": {},
   "source": [
    "#### 2b.2:"
   ]
  },
  {
   "cell_type": "code",
   "execution_count": 7,
   "metadata": {},
   "outputs": [
    {
     "name": "stdout",
     "output_type": "stream",
     "text": [
      "The equation 1x² + -5x + 6 = 0 has the real roots 3.0 and 2.0\n",
      "The equation 1x² + 2x + 3 = 0 has no real roots.\n",
      "The equation 1x² + 7x + 0 = 0 has the real roots 0.0 and -7.0\n",
      "The equation 2x² + 4x + -3 = 0 has the real roots 0.5811388300841898 and -2.58113883008419\n",
      "The equation 2x² + 4x + 2 = 0 has the single (real) root -1.0\n"
     ]
    }
   ],
   "source": [
    "examples = [[1,-5,6], [1,2,3],[1,7,0],[2,4,-3],[2,4,2]]\n",
    "\n",
    "function print_quadratic_roots(coefficients, roots)\n",
    "    print(\"The equation $(coefficients[1])x² + $(coefficients[2])x + $(coefficients[3]) = 0 \") #\\^2 + [TAB] #***\n",
    "    if length(roots) == 0 #***\n",
    "        println(\"has no real roots.\") #***\n",
    "    elseif length(roots) == 1 #***\n",
    "        println(\"has the single (real) root $(roots[1])\") #***\n",
    "    else #***\n",
    "        println(\"has the real roots $(roots[1]) and $(roots[2])\") #***\n",
    "    end #***\n",
    "end\n",
    "\n",
    "for example in examples\n",
    "    roots = real_roots_of_quadratic(example[1], example[2], example[3])\n",
    "    print_quadratic_roots(example, roots)\n",
    "end\n"
   ]
  },
  {
   "cell_type": "markdown",
   "metadata": {},
   "source": [
    "#### 2b.3:"
   ]
  },
  {
   "cell_type": "code",
   "execution_count": 8,
   "metadata": {},
   "outputs": [
    {
     "name": "stdout",
     "output_type": "stream",
     "text": [
      "The equation x² + -5x + 6 = 0 has two real roots: 3.0 and 2.0\n",
      "The equation x² + 2x + 3 = 0 has no real roots.\n",
      "The equation x² + 7x = 0 has two real roots: 0.0 and -7.0\n",
      "The equation 2x² + 4x + -3 = 0 has two real roots: 0.5811388300841898 and -2.58113883008419\n",
      "The equation 2x² + 4x + 2 = 0 has one real root: -1.0\n"
     ]
    }
   ],
   "source": [
    "examples = [[1,-5,6], [1,2,3],[1,7,0],[2,4,-3],[2,4,2]]\n",
    "\n",
    "function beautify_print_quadratic_roots(coefficients, roots)\n",
    "    \n",
    "    # First item\n",
    "    coefficients[1] == 1 ? print(\"The equation x²\") :\n",
    "    coefficients[1] == -1 ? print(\"The equation -x²\") :\n",
    "    print(\"The equation $(coefficients[1])x²\")\n",
    "    \n",
    "    # Second item\n",
    "    coefficients[2] == 1 ? print(\" + x\") :\n",
    "    coefficients[2] == -1 ? print(\" - x\") :\n",
    "    coefficients[2] == 0 ? print(\"\") :\n",
    "    print(\" + $(coefficients[2])x\")\n",
    "\n",
    "    # Third item\n",
    "    coefficients[3] == 0 ? print(\" = 0\") : \n",
    "    print(\" + $(coefficients[3]) = 0\")\n",
    "\n",
    "    if length(roots) == 0\n",
    "        println(\" has no real roots.\")\n",
    "    elseif length(roots) == 1\n",
    "        println(\" has one real root: $(roots[1])\")\n",
    "    else\n",
    "        println(\" has two real roots: $(roots[1]) and $(roots[2])\")\n",
    "    end\n",
    "end\n",
    "    \n",
    "for example in examples\n",
    "    roots = real_roots_of_quadratic(example[1], example[2], example[3])\n",
    "    beautify_print_quadratic_roots(example, roots)\n",
    "end    "
   ]
  },
  {
   "cell_type": "markdown",
   "metadata": {},
   "source": [
    "## 2c:"
   ]
  },
  {
   "cell_type": "markdown",
   "metadata": {},
   "source": [
    "#### 2c.1:"
   ]
  },
  {
   "cell_type": "code",
   "execution_count": 9,
   "metadata": {},
   "outputs": [
    {
     "name": "stdout",
     "output_type": "stream",
     "text": [
      "Test passed\n"
     ]
    }
   ],
   "source": [
    "using Random\n",
    "\"\"\"\n",
    "This function generates `num_tests` random triples of coefficients \n",
    "and checks that the function `real_roots_of_quadratic()` does its job. \n",
    "The return value is `true` if the test passed, otherwise it is `false`.\n",
    "\"\"\"\n",
    "function test_real_roots_of_quadratic(;num_tests = 10000, seed=42)\n",
    "    Random.seed!(seed)\n",
    "    test_passed = true\n",
    "    for _ in 1:num_tests\n",
    "        a, b, c = 10rand(3) .- 5 #uniform values in the range [-5,5]\n",
    "        roots = real_roots_of_quadratic(a,b,c)\n",
    "        for x in roots\n",
    "            err = a*x^2 + b*x + c \n",
    "            test_passed = (test_passed && isapprox(err, 0.0, atol = 1e-8)) \n",
    "        end\n",
    "    end\n",
    "    return test_passed\n",
    "end\n",
    "\n",
    "test_real_roots_of_quadratic() ? println(\"Test passed\") : println(\"Test failed\")"
   ]
  },
  {
   "cell_type": "markdown",
   "metadata": {},
   "source": [
    "use `10rand(3) .- 5` instead, test passed"
   ]
  },
  {
   "cell_type": "markdown",
   "metadata": {},
   "source": [
    "#### 2c.2:"
   ]
  },
  {
   "cell_type": "code",
   "execution_count": 10,
   "metadata": {},
   "outputs": [
    {
     "name": "stdout",
     "output_type": "stream",
     "text": [
      "Test passed\n"
     ]
    }
   ],
   "source": [
    "using Random\n",
    "\"\"\"\n",
    "This function generates `num_tests` random triples of coefficients \n",
    "and checks that the function `real_roots_of_quadratic()` does its job. \n",
    "The return value is `true` if the test passed, otherwise it is `false`.\n",
    "\"\"\"\n",
    "function test_real_roots_of_quadratic(;num_tests = 10000, seed=42, coeff_min=-1000, coeff_max=1000)\n",
    "    Random.seed!(seed)\n",
    "    test_passed = true\n",
    "    for _ in 1:num_tests\n",
    "        a, b, c = 2000rand(3) .- 1000 #uniform values in the range [-1000, 1000]\n",
    "        roots = real_roots_of_quadratic(a,b,c)\n",
    "        for x in roots\n",
    "            err = a*x^2 + b*x + c \n",
    "            test_passed = (test_passed && isapprox(err, 0.0, atol = 1e-8)) \n",
    "        end\n",
    "    end\n",
    "    return test_passed\n",
    "end\n",
    "\n",
    "test_real_roots_of_quadratic() ? println(\"Test passed\") : println(\"Test failed\")"
   ]
  },
  {
   "cell_type": "markdown",
   "metadata": {},
   "source": [
    "#### 2c.3:"
   ]
  },
  {
   "cell_type": "markdown",
   "metadata": {},
   "source": [
    "When there are no real roots, the `roots` array will be empty. In this case, the `for` loop that iterates over `roots` will not execute any iterations because there are no elements to process. As a result, the `test_passed` variable remains unchanged from its initial value (`true`). This means the test will automatically pass by default when no real roots exist."
   ]
  },
  {
   "cell_type": "markdown",
   "metadata": {},
   "source": [
    "#### 2c.4:"
   ]
  },
  {
   "cell_type": "code",
   "execution_count": 11,
   "metadata": {},
   "outputs": [
    {
     "name": "stdout",
     "output_type": "stream",
     "text": [
      "Test passed\n"
     ]
    }
   ],
   "source": [
    "using Random\n",
    "\"\"\"\n",
    "This function generates `num_tests` random triples of coefficients \n",
    "and checks that the function `real_roots_of_quadratic()` does its job. \n",
    "The return value is `true` if the test passed, otherwise it is `false`.\n",
    "\"\"\"\n",
    "function test_real_roots_of_quadratic(;num_tests = 0, seed=42, coeff_min=-1000, coeff_max=1000)\n",
    "    Random.seed!(seed)\n",
    "    test_passed = true\n",
    "    for _ in 1:num_tests\n",
    "        a, b, c = 2000rand(3) .- 1000 #uniform values in the range [-1000, 1000]\n",
    "        roots = real_roots_of_quadratic(a,b,c)\n",
    "        for x in roots\n",
    "            err = a*x^2 + b*x + c \n",
    "            test_passed = (test_passed && isapprox(err, 0.0, atol = 1e-8)) \n",
    "        end\n",
    "    end\n",
    "    return test_passed\n",
    "end\n",
    "\n",
    "test_real_roots_of_quadratic() ? println(\"Test passed\") : println(\"Test failed\")"
   ]
  },
  {
   "cell_type": "markdown",
   "metadata": {},
   "source": [
    "let number of tests still shows pass. The code do not show the expected value."
   ]
  },
  {
   "cell_type": "markdown",
   "metadata": {},
   "source": [
    "#### 2c.5:"
   ]
  },
  {
   "cell_type": "code",
   "execution_count": 12,
   "metadata": {},
   "outputs": [
    {
     "name": "stdout",
     "output_type": "stream",
     "text": [
      "Random-root test passed\n"
     ]
    }
   ],
   "source": [
    "function test_roots_to_quadratic(; num_tests = 1000, seed = 123)\n",
    "    Random.seed!(seed)\n",
    "    test_passed = true\n",
    "\n",
    "    for _ in 1:num_tests\n",
    "        num_roots = rand(0:2)\n",
    "\n",
    "        if num_roots == 0\n",
    "            a, b, c = 1.0, 1.0, 1.0  \n",
    "            expected_roots = []\n",
    "        elseif num_roots == 1\n",
    "            r = rand() * 20 - 10  \n",
    "            a = 1.0\n",
    "            b = -2r\n",
    "            c = r^2\n",
    "            expected_roots = [r]\n",
    "        else  # num_roots == 2\n",
    "            r1 = rand() * 20 - 10\n",
    "            r2 = rand() * 20 - 10\n",
    "            a = 1.0\n",
    "            b = -(r1 + r2)\n",
    "            c = r1 * r2\n",
    "            expected_roots = [r1, r2]\n",
    "        end\n",
    "\n",
    "        actual_roots = real_roots_of_quadratic(a, b, c)\n",
    "\n",
    "        test_passed &= length(actual_roots) == length(expected_roots)\n",
    "\n",
    "        for r in actual_roots\n",
    "            err = a*r^2 + b*r + c\n",
    "            test_passed &= isapprox(err, 0.0; atol=1e-8)\n",
    "        end\n",
    "    end\n",
    "\n",
    "    return test_passed\n",
    "end\n",
    "\n",
    "test_roots_to_quadratic() ? println(\"Random-root test passed\") : println(\"Test failed\")"
   ]
  },
  {
   "cell_type": "markdown",
   "metadata": {},
   "source": [
    "## 2d:"
   ]
  },
  {
   "cell_type": "code",
   "execution_count": 13,
   "metadata": {},
   "outputs": [
    {
     "data": {
      "text/plain": [
       "2-element Vector{ComplexF64}:\n",
       " -1.0 + 1.4142135623730951im\n",
       " -1.0 - 1.4142135623730951im"
      ]
     },
     "execution_count": 13,
     "metadata": {},
     "output_type": "execute_result"
    }
   ],
   "source": [
    "function roots_of_quadratic(a::Number, b::Number, c::Number)\n",
    "    roots::Array{ComplexF64} = []\n",
    "    Δ = b^2 - 4a*c\n",
    "    \n",
    "    Δ != 0 ? roots = [-b + √Complex(Δ), -b - √Complex(Δ)] / (2a) : roots = -b/(2a)\n",
    "end\n",
    "\n",
    "roots_of_quadratic(1,2,3)"
   ]
  },
  {
   "cell_type": "markdown",
   "metadata": {},
   "source": [
    "---\n",
    "\n",
    "*Use this area below as an experimental playground for the question. Feel free to leave some of the experimental code here with your submision. However, it will not be marked or reviewed. Make sure in your submission that if there is any experimental code here then running it does not interfere with running the actual solutions.*\n",
    "\n",
    "---"
   ]
  },
  {
   "cell_type": "code",
   "execution_count": null,
   "metadata": {},
   "outputs": [],
   "source": []
  },
  {
   "cell_type": "code",
   "execution_count": null,
   "metadata": {},
   "outputs": [],
   "source": []
  },
  {
   "cell_type": "code",
   "execution_count": null,
   "metadata": {},
   "outputs": [],
   "source": []
  },
  {
   "cell_type": "markdown",
   "metadata": {},
   "source": [
    "# Solution to [Question 3](https://courses.smp.uq.edu.au/MATH2504/2024/assessment_html/bighw.html#q3)"
   ]
  },
  {
   "cell_type": "markdown",
   "metadata": {},
   "source": [
    "#### 3a:"
   ]
  },
  {
   "cell_type": "code",
   "execution_count": 14,
   "metadata": {},
   "outputs": [
    {
     "data": {
      "text/plain": [
       "0.697774657964008"
      ]
     },
     "execution_count": 14,
     "metadata": {},
     "output_type": "execute_result"
    }
   ],
   "source": [
    "amoretti(i=0; cut_off = 20) = i > cut_off ? 0 : i + 1 / amoretti(i+1; cut_off = cut_off)\n",
    "amoretti()"
   ]
  },
  {
   "cell_type": "code",
   "execution_count": 15,
   "metadata": {},
   "outputs": [
    {
     "data": {
      "text/plain": [
       "1.0"
      ]
     },
     "execution_count": 15,
     "metadata": {},
     "output_type": "execute_result"
    }
   ],
   "source": [
    "amoretti(i=0; cut_off = 2) = i > cut_off ? 0 : i + 1 / amoretti(i+1; cut_off = cut_off)\n",
    "amoretti()"
   ]
  },
  {
   "cell_type": "code",
   "execution_count": 16,
   "metadata": {},
   "outputs": [
    {
     "data": {
      "text/plain": [
       "0.6666666666666666"
      ]
     },
     "execution_count": 16,
     "metadata": {},
     "output_type": "execute_result"
    }
   ],
   "source": [
    "amoretti(i=0; cut_off = 3) = i > cut_off ? 0 : i + 1 / amoretti(i+1; cut_off = cut_off)\n",
    "amoretti()"
   ]
  },
  {
   "cell_type": "code",
   "execution_count": 17,
   "metadata": {},
   "outputs": [
    {
     "data": {
      "text/plain": [
       "0.7"
      ]
     },
     "execution_count": 17,
     "metadata": {},
     "output_type": "execute_result"
    }
   ],
   "source": [
    "amoretti(i=0; cut_off = 4) = i > cut_off ? 0 : i + 1 / amoretti(i+1; cut_off = cut_off)\n",
    "amoretti()"
   ]
  },
  {
   "cell_type": "markdown",
   "metadata": {},
   "source": [
    "If `i > cut_off`, return `0` (terminating the recursion).\n",
    "\n",
    "Otherwise, return: `i + 1 / amoretti(i+1)`, which is a nested continued fraction structure."
   ]
  },
  {
   "cell_type": "markdown",
   "metadata": {},
   "source": [
    "#### 3b:"
   ]
  },
  {
   "cell_type": "code",
   "execution_count": 18,
   "metadata": {},
   "outputs": [
    {
     "data": {
      "text/plain": [
       "0.697774657964008"
      ]
     },
     "execution_count": 18,
     "metadata": {},
     "output_type": "execute_result"
    }
   ],
   "source": [
    "function amoretti_loop(cut_off)\n",
    "    cut_off == 0 && return 0.0\n",
    "    f = cut_off - 1.0  \n",
    "    for i in (cut_off-2):-1:0\n",
    "        f = i + 1.0 / f\n",
    "    end\n",
    "    return f\n",
    "end\n",
    "\n",
    "# Test with cut_off = 20 \n",
    "amoretti_loop(20)  # Returns ≈0.697774657964008"
   ]
  },
  {
   "cell_type": "code",
   "execution_count": 19,
   "metadata": {},
   "outputs": [
    {
     "data": {
      "text/plain": [
       "0.697774657964008"
      ]
     },
     "execution_count": 19,
     "metadata": {},
     "output_type": "execute_result"
    }
   ],
   "source": [
    "amoretti_loop(20)"
   ]
  },
  {
   "cell_type": "markdown",
   "metadata": {},
   "source": [
    "#### 3c:"
   ]
  },
  {
   "cell_type": "code",
   "execution_count": 20,
   "metadata": {},
   "outputs": [
    {
     "data": {
      "text/plain": [
       "0.6977746579640081"
      ]
     },
     "execution_count": 20,
     "metadata": {},
     "output_type": "execute_result"
    }
   ],
   "source": [
    "using SpecialFunctions\n",
    "besseli(1, 2) / besseli(0, 2)"
   ]
  },
  {
   "cell_type": "markdown",
   "metadata": {},
   "source": [
    "#### 3d:"
   ]
  },
  {
   "cell_type": "code",
   "execution_count": 21,
   "metadata": {},
   "outputs": [
    {
     "data": {
      "text/plain": [
       "false"
      ]
     },
     "execution_count": 21,
     "metadata": {},
     "output_type": "execute_result"
    }
   ],
   "source": [
    "# OEIS reference digits (105 decimal places)\n",
    "oeis_digits = [6,9,7,7,7,4,6,5,7,9,6,4,0,0,7,9,8,2,0,0,6,7,9,0,5,9,2,5,5,1,7,5,2,5,9,9,4,8,6,5,8,2,6,2,9,9,8,0,2,1,2,3,2,3,6,8,6,3,0,0,8,2,8,1,6,5,3,0,8,5,2,7,6,4,6,4,1,1,1,2,9,9,6,9,6,5,6,5,4,1,8,2,6,7,6,5,6,8,7,2,3,9,8,2]\n",
    "\n",
    "function amoretti_big(cut_off)\n",
    "    cut_off == 0 && return BigFloat(0)\n",
    "    f = BigFloat(cut_off - 1)\n",
    "    for i in (cut_off-2):-1:0\n",
    "        f = BigFloat(i) + 1 / f\n",
    "    end\n",
    "    return f\n",
    "end\n",
    "\n",
    "# Set precision to 4000 bits\n",
    "setprecision(4000)\n",
    "x = amoretti_big(100000)  # Compute with 100,000 terms\n",
    "\n",
    "# 105 fractional digits\n",
    "function get_digits(x::BigFloat, n::Int)\n",
    "    y = x - floor(x)  # Fractional part\n",
    "    digits = zeros(Int, n)\n",
    "    for i in 1:n\n",
    "        y *= 10\n",
    "        d = floor(Int, y)\n",
    "        digits[i] = d\n",
    "        y -= d\n",
    "    end\n",
    "    return digits\n",
    "end\n",
    "\n",
    "computed_digits = get_digits(x, 105)\n",
    "\n",
    "# Compare with OEIS digits\n",
    "computed_digits == oeis_digits  \n"
   ]
  },
  {
   "cell_type": "markdown",
   "metadata": {},
   "source": [
    "---\n",
    "\n",
    "*Use this area below as an experimental playground for the question. Feel free to leave some of the experimental code here with your submision. However, it will not be marked or reviewed. Make sure in your submission that if there is any experimental code here then running it does not interfere with running the actual solutions.*\n",
    "\n",
    "---"
   ]
  },
  {
   "cell_type": "code",
   "execution_count": null,
   "metadata": {},
   "outputs": [],
   "source": []
  },
  {
   "cell_type": "code",
   "execution_count": null,
   "metadata": {},
   "outputs": [],
   "source": []
  },
  {
   "cell_type": "code",
   "execution_count": null,
   "metadata": {},
   "outputs": [],
   "source": []
  },
  {
   "cell_type": "markdown",
   "metadata": {},
   "source": [
    "# Solution to [Question 4](https://courses.smp.uq.edu.au/MATH2504/2024/assessment_html/bighw.html#q4)"
   ]
  },
  {
   "cell_type": "markdown",
   "metadata": {},
   "source": [
    "## 4a:"
   ]
  },
  {
   "cell_type": "code",
   "execution_count": 22,
   "metadata": {},
   "outputs": [
    {
     "name": "stdout",
     "output_type": "stream",
     "text": [
      "random_binary_string() = \"001110111010\"\n",
      "random_hex_string() = \"409\"\n"
     ]
    }
   ],
   "source": [
    "random_binary_string(n = 12) = *([rand(['0','1']) for _ in 1:n]...)\n",
    "random_hex_string(n=3) = *([rand(union('0':'9','A':'F')) for _ in 1:n]...);\n",
    "using Random\n",
    "Random.seed!(1)\n",
    "@show random_binary_string()\n",
    "@show random_hex_string();"
   ]
  },
  {
   "cell_type": "markdown",
   "metadata": {},
   "source": [
    "`random_binary_string(n=12)`:  \n",
    "\n",
    "`['0','1']`: Character set containing '0' and '1'  \n",
    "\n",
    "`rand(['0','1'])`: Randomly selects '0' or '1'  \n",
    "\n",
    "`[rand(...) for _ in 1:n]`: Creates an array of n random characters  \n",
    "\n",
    "`...` : Converts array elements to arguments  \n",
    "\n",
    "`*`: Concatenates characters into a single string  "
   ]
  },
  {
   "cell_type": "markdown",
   "metadata": {},
   "source": [
    "`random_hex_string(n=3)`:\n",
    "\n",
    "`'0':'9'`: Digits 0-9\n",
    "\n",
    "`'A':'F'`: Uppercase hex letters A-F\n",
    "\n",
    "`union(...)`: Combines both ranges\n",
    "\n",
    "`rand(union(...))`: Randomly selects a hex character\n",
    "\n",
    "`...` : Converts array elements to arguments  \n",
    "\n",
    "`*`: Concatenates characters into a single string  "
   ]
  },
  {
   "cell_type": "markdown",
   "metadata": {},
   "source": [
    "## 4b:"
   ]
  },
  {
   "cell_type": "markdown",
   "metadata": {},
   "source": [
    "Each random binary string is 12 bits long, representing values from 0 to 4095. Assuming a uniform distribution, the expected value per string is \n",
    "$$\n",
    "\\sum_{k=0}^{11} \\frac{1}{2}*2^k = \\frac{4095}{2} = 2047.5\n",
    "$$\n",
    "For 1000 strings, we expect a total around 2047.5×1000=2,047,500.\n",
    "Similarly, each hexadecimal string of 3 digits also ranges from 0 to 4095, with the same expected value and total.\n",
    "However, due to the random nature of sampling and finite sample size (1000), our actual sums may vary above or below this value. This is normal statistical variance, not an error."
   ]
  },
  {
   "cell_type": "code",
   "execution_count": 23,
   "metadata": {},
   "outputs": [
    {
     "name": "stdout",
     "output_type": "stream",
     "text": [
      "Binary sum: 2035713\n",
      "Hex sum:    2111429\n"
     ]
    }
   ],
   "source": [
    "random_binary_string(n = 12) = *([rand(['0','1']) for _ in 1:n]...)\n",
    "random_hex_string(n=3) = *([rand(union('0':'9','A':'F')) for _ in 1:n]...);\n",
    "using Random\n",
    "Random.seed!(1)\n",
    "\n",
    "# Generate strings\n",
    "r_bin_strs = [random_binary_string() for _ in 1:10^3]\n",
    "r_hex_strs = [random_hex_string() for _ in 1:10^3]\n",
    "\n",
    "# Parse and sum\n",
    "sum_bin = sum(s -> parse(Int, s, base=2), r_bin_strs)\n",
    "sum_hex = sum(s -> parse(Int, s, base=16), r_hex_strs)\n",
    "\n",
    "println(\"Binary sum: \", sum_bin)  \n",
    "println(\"Hex sum:    \", sum_hex)"
   ]
  },
  {
   "cell_type": "markdown",
   "metadata": {},
   "source": [
    "## 4c:"
   ]
  },
  {
   "cell_type": "code",
   "execution_count": 24,
   "metadata": {},
   "outputs": [
    {
     "data": {
      "text/plain": [
       "custom_parse_binary (generic function with 1 method)"
      ]
     },
     "execution_count": 24,
     "metadata": {},
     "output_type": "execute_result"
    }
   ],
   "source": [
    "function custom_parse_binary(s::String)\n",
    "    value = 0\n",
    "    # Process each character from most significant to least\n",
    "    for c in s\n",
    "        bit = c == '1' ? 1 : 0\n",
    "        value = value * 2 + bit  # Shift left and add current bit\n",
    "    end\n",
    "    return value\n",
    "end"
   ]
  },
  {
   "cell_type": "code",
   "execution_count": 25,
   "metadata": {},
   "outputs": [
    {
     "data": {
      "text/plain": [
       "custom_parse_hex (generic function with 1 method)"
      ]
     },
     "execution_count": 25,
     "metadata": {},
     "output_type": "execute_result"
    }
   ],
   "source": [
    "function custom_parse_hex(s::String)\n",
    "    # Create mapping from character to numeric value\n",
    "    hex_map = Dict{Char,Int}()\n",
    "    for (i, c) in enumerate('0':'9')\n",
    "        hex_map[c] = i-1  # '0'→0, '1'→1, ..., '9'→9\n",
    "    end\n",
    "    for (i, c) in enumerate('A':'F')\n",
    "        hex_map[c] = i + 9  # 'A'→10, 'B'→11, ..., 'F'→15\n",
    "    end\n",
    "    \n",
    "    value = 0\n",
    "    s_upper = uppercase(s)  # Handle lowercase letters\n",
    "    for c in s_upper\n",
    "        value = value * 16 + hex_map[c]  # Shift left 4 bits and add current digit\n",
    "    end\n",
    "    return value\n",
    "end"
   ]
  },
  {
   "cell_type": "code",
   "execution_count": 26,
   "metadata": {},
   "outputs": [
    {
     "name": "stdout",
     "output_type": "stream",
     "text": [
      "Standard binary sum: 2035713\n",
      "Custom binary sum:   2035713\n",
      "Match:               true\n",
      "\n",
      "Standard hex sum:    2111429\n",
      "Custom hex sum:      2111429\n",
      "Match:               true\n"
     ]
    }
   ],
   "source": [
    "using Random\n",
    "Random.seed!(1)\n",
    "\n",
    "# Generate test data\n",
    "r_bin_strs = [random_binary_string() for _ in 1:10^3]\n",
    "r_hex_strs = [random_hex_string() for _ in 1:10^3]\n",
    "\n",
    "# Standard parsing\n",
    "std_bin_sum = sum(s -> parse(Int, s, base=2), r_bin_strs)\n",
    "std_hex_sum = sum(s -> parse(Int, s, base=16), r_hex_strs)\n",
    "\n",
    "# Custom parsing\n",
    "custom_bin_sum = sum(custom_parse_binary, r_bin_strs)\n",
    "custom_hex_sum = sum(custom_parse_hex, r_hex_strs)\n",
    "\n",
    "# Output results\n",
    "println(\"Standard binary sum: $std_bin_sum\")\n",
    "println(\"Custom binary sum:   $custom_bin_sum\")\n",
    "println(\"Match:               $(std_bin_sum == custom_bin_sum)\")\n",
    "\n",
    "println(\"\\nStandard hex sum:    $std_hex_sum\")\n",
    "println(\"Custom hex sum:      $custom_hex_sum\")\n",
    "println(\"Match:               $(std_hex_sum == custom_hex_sum)\")"
   ]
  },
  {
   "cell_type": "markdown",
   "metadata": {},
   "source": [
    "---\n",
    "\n",
    "*Use this area below as an experimental playground for the question. Feel free to leave some of the experimental code here with your submision. However, it will not be marked or reviewed. Make sure in your submission that if there is any experimental code here then running it does not interfere with running the actual solutions.*\n",
    "\n",
    "---"
   ]
  },
  {
   "cell_type": "code",
   "execution_count": null,
   "metadata": {},
   "outputs": [],
   "source": []
  },
  {
   "cell_type": "code",
   "execution_count": null,
   "metadata": {},
   "outputs": [],
   "source": []
  },
  {
   "cell_type": "code",
   "execution_count": null,
   "metadata": {},
   "outputs": [],
   "source": []
  }
 ],
 "metadata": {
  "kernelspec": {
   "display_name": "Julia 1.11.6",
   "language": "julia",
   "name": "julia-1.11"
  },
  "language_info": {
   "file_extension": ".jl",
   "mimetype": "application/julia",
   "name": "julia",
   "version": "1.11.6"
  }
 },
 "nbformat": 4,
 "nbformat_minor": 4
}
